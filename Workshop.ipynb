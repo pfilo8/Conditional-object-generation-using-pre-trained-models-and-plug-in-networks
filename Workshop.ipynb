{
 "cells": [
  {
   "cell_type": "markdown",
   "source": [
    "# Conditional object generation using pre-trained models and plug-in networks\n",
    "Prowadzący: **Patryk Wielopolski**, Politechnika Wrocławska\n",
    "\n",
    "Abstrakt: Modele generatywne przyciągnęły uwagę wielu praktyków uczenia maszynowego w ostatnich latach, co zaowocowało modelami takimi jak StyleGAN do generowania ludzkiej twarzy lub PointFlow do generowania chmur punktów 3D. Jednak domyślnie nie możemy kontrolować jego procesu próbkowania, tj. nie możemy wygenerować próbki z określonym zestawem atrybutów. Obecne podejście polega na przekwalifikowaniu modelu z dodatkowymi danymi wejściowymi i inną architekturą, co wymaga czasu i zasobów obliczeniowych.\n",
    "\n",
    "Podczas tego praktycznego warsztatu omówimy metodę, która pozwala nam generować obiekty o danym zestawie atrybutów bez ponownego uczenia modelu bazowego. W tym celu wykorzystamy modele normalizing flows – Conditional Masked Autoregressive Flow i Conditional Real NVP oraz sieci Plugin, w wyniku których powstaje Flow Plugin Network.\n"
   ],
   "metadata": {
    "collapsed": false,
    "pycharm": {
     "name": "#%% md\n"
    }
   }
  },
  {
   "cell_type": "markdown",
   "source": [
    "Cel warsztatów:\n",
    " * Praktyczne zapoznanie się z modelami Normalizing Flows oraz biblioteką nflows\n",
    " * Praktyczne zapoznanie się z metodą Flow Plugin Network\n",
    "\n",
    "Agenda:\n",
    " * Wstęp do modeli generatywnych\n",
    " * Praktyczny wstęp do Normalizing Flows z wykorzystaniem pakietu **nflows**.\n",
    " * Metoda Flow Plugin Network (FPN)\n",
    " * Wykorzystanie metody FPN do warunkowego generowania obrazów\n",
    " * Wykorzystanie metody FPN do warunkowego generowania chmur punktów"
   ],
   "metadata": {
    "collapsed": false,
    "pycharm": {
     "name": "#%% md\n"
    }
   }
  },
  {
   "cell_type": "markdown",
   "source": [
    "## Wstęp do modeli generatywnych"
   ],
   "metadata": {
    "collapsed": false,
    "pycharm": {
     "name": "#%% md\n"
    }
   }
  },
  {
   "cell_type": "markdown",
   "source": [
    "## Modele generatywne\n",
    "\n",
    "![](figures/three-generative-models.png)"
   ],
   "metadata": {
    "collapsed": false,
    "pycharm": {
     "name": "#%% md\n"
    }
   }
  },
  {
   "cell_type": "markdown",
   "source": [
    "## Normalizing Flows\n",
    "\n",
    "![](figures/normalizing-flow.png)"
   ],
   "metadata": {
    "collapsed": false,
    "pycharm": {
     "name": "#%% md\n"
    }
   }
  },
  {
   "cell_type": "markdown",
   "source": [
    "# Praktyczny wstęp do Normalizing Flows z wykorzystaniem pakietu **nflows**"
   ],
   "metadata": {
    "collapsed": false,
    "pycharm": {
     "name": "#%% md\n"
    }
   }
  },
  {
   "cell_type": "markdown",
   "source": [
    "Omówienie modeli:\n",
    "  * NICE\n",
    "  * RealNVP\n",
    "  * MAF\n",
    "\n",
    "Omówienie warunkowych modeli:\n",
    "  * Conditional NICE\n",
    "  * Conditional RealNVP\n",
    "  * Conditional MAF"
   ],
   "metadata": {
    "collapsed": false,
    "pycharm": {
     "name": "#%% md\n"
    }
   }
  },
  {
   "cell_type": "markdown",
   "source": [
    "### Konstrukcja biblioteki nflows\n",
    "\n",
    "Krótkie omówienie biblioteki\n",
    "\n",
    "  * Distributions - Bazowe rozkłady prawdopodobieństwa\n",
    "  * Flows - Przykładowe implementacje modeli normalizing flows\n",
    "  * Nn - Implementacje sieci neuronowych budujących bloki modelu\n",
    "  * Transforms - Implementacje bloków transformujących w normalazing flows\n",
    "  * Utils"
   ],
   "metadata": {
    "collapsed": false,
    "pycharm": {
     "name": "#%% md\n"
    }
   }
  },
  {
   "cell_type": "markdown",
   "source": [
    "### Toy example data"
   ],
   "metadata": {
    "collapsed": false,
    "pycharm": {
     "name": "#%% md\n"
    }
   }
  },
  {
   "cell_type": "code",
   "execution_count": 76,
   "metadata": {
    "pycharm": {
     "name": "#%%\n"
    }
   },
   "outputs": [],
   "source": [
    "import matplotlib.pyplot as plt\n",
    "import sklearn.datasets as datasets"
   ]
  },
  {
   "cell_type": "code",
   "execution_count": 77,
   "metadata": {
    "pycharm": {
     "name": "#%%\n"
    }
   },
   "outputs": [
    {
     "data": {
      "text/plain": "<Figure size 432x288 with 1 Axes>",
      "image/png": "[encoded data removed]"
     },
     "metadata": {
      "needs_background": "light"
     },
     "output_type": "display_data"
    }
   ],
   "source": [
    "x, y = datasets.make_moons(128, noise=.1)\n",
    "plt.scatter(x[:, 0], x[:, 1]);"
   ]
  },
  {
   "cell_type": "markdown",
   "source": [
    "# NICE (Non-linear Independent Component Estimation)\n",
    "\n",
    "#TODO: Opis. The NICE (Non-linear Independent Component Estimation; Dinh, et al. 2015) model is a predecessor of RealNVP. The transformation in NICE is the affine coupling layer without the scale term, known as additive coupling layer.\n",
    "\n",
    "$$\n",
    "\\begin{cases}\n",
    "    \\mathbf{u}_{1:d} &= \\mathbf{x}_{1:d} \\\\\n",
    "    \\mathbf{u}_{d+1:D} &= \\mathbf{x}_{d+1:D} + \\mu(\\mathbf{x}_{1:d})\n",
    "    \\end{cases}\n",
    "    \\Leftrightarrow\n",
    "    \\begin{cases}\n",
    "    \\mathbf{x}_{1:d} &= \\mathbf{u}_{1:d} \\\\\n",
    "    \\mathbf{x}_{d+1:D} &= \\mathbf{u}_{d+1:D} - \\mu(\\mathbf{u}_{1:d})\n",
    "\\end{cases}\n",
    "$$"
   ],
   "metadata": {
    "collapsed": false,
    "pycharm": {
     "name": "#%% md\n"
    }
   }
  },
  {
   "cell_type": "code",
   "execution_count": 78,
   "outputs": [],
   "source": [
    "import torch\n",
    "import torch.optim as optim\n",
    "import torch.nn.functional as F\n",
    "\n",
    "from nflows.distributions.normal import StandardNormal\n",
    "from nflows.flows.base import Flow\n",
    "from nflows.nn import nets as nets\n",
    "from nflows.transforms.base import CompositeTransform\n",
    "from nflows.transforms.coupling import AdditiveCouplingTransform\n",
    "from nflows.transforms.normalization import BatchNorm\n",
    "\n",
    "\n",
    "class NICE(Flow):\n",
    "    def __init__(\n",
    "            self,\n",
    "            features,\n",
    "            hidden_features,\n",
    "            num_layers=2,\n",
    "            num_blocks_per_layer=2,\n",
    "            activation=F.relu,\n",
    "            dropout_probability=0.0,\n",
    "            batch_norm_within_layers=False,\n",
    "            batch_norm_between_layers=False,\n",
    "    ):\n",
    "\n",
    "        mask = torch.ones(features)\n",
    "        mask[::2] = -1\n",
    "\n",
    "        def create_resnet(in_features, out_features):\n",
    "            return nets.ResidualNet(\n",
    "                in_features,\n",
    "                out_features,\n",
    "                hidden_features=hidden_features,\n",
    "                num_blocks=num_blocks_per_layer,\n",
    "                activation=activation,\n",
    "                dropout_probability=dropout_probability,\n",
    "                use_batch_norm=batch_norm_within_layers,\n",
    "            )\n",
    "\n",
    "        layers = []\n",
    "        for _ in range(num_layers):\n",
    "            transform = AdditiveCouplingTransform(mask=mask, transform_net_create_fn=create_resnet)\n",
    "            layers.append(transform)\n",
    "            mask *= -1\n",
    "            if batch_norm_between_layers:\n",
    "                layers.append(BatchNorm(features=features))\n",
    "\n",
    "        super().__init__(\n",
    "            transform=CompositeTransform(layers),\n",
    "            distribution=StandardNormal([features]),\n",
    "        )\n"
   ],
   "metadata": {
    "collapsed": false,
    "pycharm": {
     "name": "#%%\n"
    }
   }
  },
  {
   "cell_type": "code",
   "execution_count": 79,
   "metadata": {
    "pycharm": {
     "name": "#%%\n"
    }
   },
   "outputs": [],
   "source": [
    "nice = NICE(features=2, hidden_features=4, num_layers=1, num_blocks_per_layer=1)"
   ]
  },
  {
   "cell_type": "code",
   "execution_count": 80,
   "outputs": [
    {
     "data": {
      "text/plain": "NICE(\n  (_transform): CompositeTransform(\n    (_transforms): ModuleList(\n      (0): AdditiveCouplingTransform(\n        (transform_net): ResidualNet(\n          (initial_layer): Linear(in_features=1, out_features=4, bias=True)\n          (blocks): ModuleList(\n            (0): ResidualBlock(\n              (linear_layers): ModuleList(\n                (0): Linear(in_features=4, out_features=4, bias=True)\n                (1): Linear(in_features=4, out_features=4, bias=True)\n              )\n              (dropout): Dropout(p=0.0, inplace=False)\n            )\n          )\n          (final_layer): Linear(in_features=4, out_features=1, bias=True)\n        )\n      )\n    )\n  )\n  (_distribution): StandardNormal()\n  (_embedding_net): Identity()\n)"
     },
     "execution_count": 80,
     "metadata": {},
     "output_type": "execute_result"
    }
   ],
   "source": [
    "# Sprawdźmy komponenty modelu\n",
    "nice"
   ],
   "metadata": {
    "collapsed": false,
    "pycharm": {
     "name": "#%%\n"
    }
   }
  },
  {
   "cell_type": "code",
   "execution_count": 81,
   "outputs": [],
   "source": [
    "nice = NICE(features=2, hidden_features=4, num_layers=4, num_blocks_per_layer=2)\n",
    "nice_opt = optim.Adam(nice.parameters())"
   ],
   "metadata": {
    "collapsed": false,
    "pycharm": {
     "name": "#%%\n"
    }
   }
  },
  {
   "cell_type": "code",
   "execution_count": 82,
   "outputs": [],
   "source": [
    "def train(model, opt, num_iter=5000, iter_log=5000):\n",
    "    for i in range(num_iter):\n",
    "        x, y = datasets.make_moons(128, noise=.1)\n",
    "        x = torch.tensor(x, dtype=torch.float32)\n",
    "        opt.zero_grad()\n",
    "        loss = -model.log_prob(inputs=x).mean()\n",
    "        loss.backward()\n",
    "        opt.step()\n",
    "\n",
    "        if (i + 1) % iter_log == 0:\n",
    "            xline = torch.linspace(-1.5, 2.5, 100)\n",
    "            yline = torch.linspace(-.75, 1.25, 100)\n",
    "            xgrid, ygrid = torch.meshgrid(xline, yline)\n",
    "            xyinput = torch.cat([xgrid.reshape(-1, 1), ygrid.reshape(-1, 1)], dim=1)\n",
    "\n",
    "            with torch.no_grad():\n",
    "                zgrid = model.log_prob(xyinput).exp().reshape(100, 100)\n",
    "\n",
    "            plt.contourf(xgrid.numpy(), ygrid.numpy(), zgrid.numpy())\n",
    "            plt.title('iteration {}'.format(i + 1))\n",
    "            plt.show()"
   ],
   "metadata": {
    "collapsed": false,
    "pycharm": {
     "name": "#%%\n"
    }
   }
  },
  {
   "cell_type": "code",
   "execution_count": null,
   "metadata": {
    "scrolled": false,
    "pycharm": {
     "name": "#%%\n",
     "is_executing": true
    }
   },
   "outputs": [],
   "source": [
    "train(nice, nice_opt, num_iter=10000, iter_log=1000)"
   ]
  },
  {
   "cell_type": "markdown",
   "source": [
    "# Ćwiczenie (5 min.)\n",
    "\n",
    "Modyfikując hiperparametry modelu wytrenuj model, który lepiej odwzoruje prawdziwy rozkład danych."
   ],
   "metadata": {
    "collapsed": false,
    "pycharm": {
     "name": "#%% md\n"
    }
   }
  },
  {
   "cell_type": "code",
   "execution_count": 84,
   "outputs": [],
   "source": [
    "# TODO: Your code goes here."
   ],
   "metadata": {
    "collapsed": false,
    "pycharm": {
     "name": "#%%\n"
    }
   }
  },
  {
   "cell_type": "markdown",
   "source": [
    "### Badanie podstawowych funkcjonalności modeli\n",
    "#### Samplowanie"
   ],
   "metadata": {
    "collapsed": false,
    "pycharm": {
     "name": "#%% md\n"
    }
   }
  },
  {
   "cell_type": "code",
   "execution_count": 85,
   "outputs": [],
   "source": [
    "x, y = datasets.make_moons(128, noise=.1)\n",
    "x = torch.tensor(x, dtype=torch.float32)"
   ],
   "metadata": {
    "collapsed": false,
    "pycharm": {
     "name": "#%%\n"
    }
   }
  },
  {
   "cell_type": "code",
   "execution_count": 86,
   "outputs": [],
   "source": [
    "samples = nice.sample(1000).detach().numpy()"
   ],
   "metadata": {
    "collapsed": false,
    "pycharm": {
     "name": "#%%\n"
    }
   }
  },
  {
   "cell_type": "code",
   "execution_count": 87,
   "outputs": [
    {
     "data": {
      "text/plain": "<Figure size 864x288 with 2 Axes>",
      "image/png": "[encoded data removed]"
     },
     "metadata": {
      "needs_background": "light"
     },
     "output_type": "display_data"
    }
   ],
   "source": [
    "fig, ax = plt.subplots(1, 2, figsize=(12, 4))\n",
    "\n",
    "ax[0].scatter(x[:, 0], x[:, 1])\n",
    "ax[0].set_title('Data')\n",
    "\n",
    "ax[1].scatter(samples[:, 0], samples[:, 1])\n",
    "ax[1].set_title('Samples from NICE')\n",
    "\n",
    "plt.xlim(-1.5, 2.5)\n",
    "plt.ylim(-1, 1.5)\n",
    "plt.show()"
   ],
   "metadata": {
    "collapsed": false,
    "pycharm": {
     "name": "#%%\n"
    }
   }
  },
  {
   "cell_type": "markdown",
   "source": [
    "# RealNVP\n",
    "\n",
    "#TODO: Opis\n",
    "\n",
    "$$\n",
    "\\begin{cases}\n",
    "    \\mathbf{u}_{1:d} &= \\mathbf{x}_{1:d} \\\\\n",
    "    \\mathbf{u}_{d+1:D} &= \\mathbf{x}_{d+1:D} \\odot \\exp{(\\sigma{(\\mathbf{x}_{1:d})})} + \\mu(\\mathbf{x}_{1:d})\n",
    "    \\end{cases}\n",
    "    \\Leftrightarrow\n",
    "    \\begin{cases}\n",
    "    \\mathbf{x}_{1:d} &= \\mathbf{u}_{1:d} \\\\\n",
    "    \\mathbf{x}_{d+1:D} &= (\\mathbf{u}_{d+1:D} - \\mu(\\mathbf{u}_{1:d})) \\odot \\exp{(-\\sigma{(\\mathbf{u}_{1:d})})}\n",
    "\\end{cases}\n",
    "$$\n"
   ],
   "metadata": {
    "collapsed": false,
    "pycharm": {
     "name": "#%% md\n"
    }
   }
  },
  {
   "cell_type": "markdown",
   "source": [
    "# Ćwiczenie (5 min.)\n",
    "\n",
    "Na podstawie powyższego kodu modelu NICE oraz biblioteki nflows zaimplementuj model RealNVP."
   ],
   "metadata": {
    "collapsed": false,
    "pycharm": {
     "name": "#%% md\n"
    }
   }
  },
  {
   "cell_type": "code",
   "execution_count": null,
   "outputs": [],
   "source": [
    "# HINT: from nflows.transforms import ...\n",
    "\n",
    "\n",
    "class RealNVP(Flow):\n",
    "    def __init__(\n",
    "            self,\n",
    "            features,\n",
    "            hidden_features,\n",
    "            num_layers=2,\n",
    "            num_blocks_per_layer=2,\n",
    "            activation=F.relu,\n",
    "            dropout_probability=0.0,\n",
    "            batch_norm_within_layers=False,\n",
    "            batch_norm_between_layers=False,\n",
    "    ):\n",
    "\n",
    "        mask = torch.ones(features)\n",
    "        mask[::2] = -1\n",
    "\n",
    "        def create_resnet(in_features, out_features):\n",
    "            return nets.ResidualNet(\n",
    "                in_features,\n",
    "                out_features,\n",
    "                hidden_features=hidden_features,\n",
    "                num_blocks=num_blocks_per_layer,\n",
    "                activation=activation,\n",
    "                dropout_probability=dropout_probability,\n",
    "                use_batch_norm=batch_norm_within_layers,\n",
    "            )\n",
    "\n",
    "        layers = []\n",
    "        for _ in range(num_layers):\n",
    "            transform = AdditiveCouplingTransform(mask=mask, transform_net_create_fn=create_resnet)\n",
    "            layers.append(transform)\n",
    "            mask *= -1\n",
    "            if batch_norm_between_layers:\n",
    "                layers.append(BatchNorm(features=features))\n",
    "\n",
    "        super().__init__(\n",
    "            transform=CompositeTransform(layers),\n",
    "            distribution=StandardNormal([features]),\n",
    "        )"
   ],
   "metadata": {
    "collapsed": false,
    "pycharm": {
     "name": "#%%\n"
    }
   }
  },
  {
   "cell_type": "code",
   "execution_count": 89,
   "outputs": [],
   "source": [
    "real_nvp = RealNVP(features=2, hidden_features=4, num_layers=2, num_blocks_per_layer=2)\n",
    "real_nvp_opt = optim.Adam(real_nvp.parameters())"
   ],
   "metadata": {
    "collapsed": false,
    "pycharm": {
     "name": "#%%\n"
    }
   }
  },
  {
   "cell_type": "code",
   "execution_count": 90,
   "outputs": [
    {
     "data": {
      "text/plain": "<Figure size 432x288 with 1 Axes>",
      "image/png": "[encoded data removed]"
     },
     "metadata": {
      "needs_background": "light"
     },
     "output_type": "display_data"
    }
   ],
   "source": [
    "train(real_nvp, real_nvp_opt)"
   ],
   "metadata": {
    "collapsed": false,
    "pycharm": {
     "name": "#%%\n"
    }
   }
  },
  {
   "cell_type": "markdown",
   "source": [
    "### Dalsze badanie podstawowych funkcjonalności modeli\n",
    "#### Transformacje"
   ],
   "metadata": {
    "collapsed": false,
    "pycharm": {
     "name": "#%% md\n"
    }
   }
  },
  {
   "cell_type": "code",
   "execution_count": 91,
   "outputs": [],
   "source": [
    "prior_samples = real_nvp._distribution.sample(1000)"
   ],
   "metadata": {
    "collapsed": false,
    "pycharm": {
     "name": "#%%\n"
    }
   }
  },
  {
   "cell_type": "code",
   "execution_count": 92,
   "outputs": [
    {
     "data": {
      "text/plain": "<Figure size 432x288 with 1 Axes>",
      "image/png": "[encoded data removed]"
     },
     "metadata": {
      "needs_background": "light"
     },
     "output_type": "display_data"
    }
   ],
   "source": [
    "prior_samples_numpy = prior_samples.detach().numpy()\n",
    "\n",
    "plt.scatter(prior_samples_numpy[:, 0], prior_samples_numpy[:, 1])\n",
    "plt.title('Próbki z rozkładu bazowego')\n",
    "plt.show()"
   ],
   "metadata": {
    "collapsed": false,
    "pycharm": {
     "name": "#%%\n"
    }
   }
  },
  {
   "cell_type": "code",
   "execution_count": 93,
   "outputs": [
    {
     "data": {
      "text/plain": "ModuleList(\n  (0): AffineCouplingTransform(\n    (transform_net): ResidualNet(\n      (initial_layer): Linear(in_features=1, out_features=4, bias=True)\n      (blocks): ModuleList(\n        (0): ResidualBlock(\n          (linear_layers): ModuleList(\n            (0): Linear(in_features=4, out_features=4, bias=True)\n            (1): Linear(in_features=4, out_features=4, bias=True)\n          )\n          (dropout): Dropout(p=0.0, inplace=False)\n        )\n        (1): ResidualBlock(\n          (linear_layers): ModuleList(\n            (0): Linear(in_features=4, out_features=4, bias=True)\n            (1): Linear(in_features=4, out_features=4, bias=True)\n          )\n          (dropout): Dropout(p=0.0, inplace=False)\n        )\n      )\n      (final_layer): Linear(in_features=4, out_features=2, bias=True)\n    )\n  )\n  (1): AffineCouplingTransform(\n    (transform_net): ResidualNet(\n      (initial_layer): Linear(in_features=1, out_features=4, bias=True)\n      (blocks): ModuleList(\n        (0): ResidualBlock(\n          (linear_layers): ModuleList(\n            (0): Linear(in_features=4, out_features=4, bias=True)\n            (1): Linear(in_features=4, out_features=4, bias=True)\n          )\n          (dropout): Dropout(p=0.0, inplace=False)\n        )\n        (1): ResidualBlock(\n          (linear_layers): ModuleList(\n            (0): Linear(in_features=4, out_features=4, bias=True)\n            (1): Linear(in_features=4, out_features=4, bias=True)\n          )\n          (dropout): Dropout(p=0.0, inplace=False)\n        )\n      )\n      (final_layer): Linear(in_features=4, out_features=2, bias=True)\n    )\n  )\n)"
     },
     "execution_count": 93,
     "metadata": {},
     "output_type": "execute_result"
    }
   ],
   "source": [
    "nf_blocks = real_nvp._transform._transforms\n",
    "nf_blocks"
   ],
   "metadata": {
    "collapsed": false,
    "pycharm": {
     "name": "#%%\n"
    }
   }
  },
  {
   "cell_type": "code",
   "execution_count": 94,
   "outputs": [
    {
     "name": "stdout",
     "output_type": "stream",
     "text": [
      "AffineCouplingTransform(\n",
      "  (transform_net): ResidualNet(\n",
      "    (initial_layer): Linear(in_features=1, out_features=4, bias=True)\n",
      "    (blocks): ModuleList(\n",
      "      (0): ResidualBlock(\n",
      "        (linear_layers): ModuleList(\n",
      "          (0): Linear(in_features=4, out_features=4, bias=True)\n",
      "          (1): Linear(in_features=4, out_features=4, bias=True)\n",
      "        )\n",
      "        (dropout): Dropout(p=0.0, inplace=False)\n",
      "      )\n",
      "      (1): ResidualBlock(\n",
      "        (linear_layers): ModuleList(\n",
      "          (0): Linear(in_features=4, out_features=4, bias=True)\n",
      "          (1): Linear(in_features=4, out_features=4, bias=True)\n",
      "        )\n",
      "        (dropout): Dropout(p=0.0, inplace=False)\n",
      "      )\n",
      "    )\n",
      "    (final_layer): Linear(in_features=4, out_features=2, bias=True)\n",
      "  )\n",
      ")\n",
      "AffineCouplingTransform(\n",
      "  (transform_net): ResidualNet(\n",
      "    (initial_layer): Linear(in_features=1, out_features=4, bias=True)\n",
      "    (blocks): ModuleList(\n",
      "      (0): ResidualBlock(\n",
      "        (linear_layers): ModuleList(\n",
      "          (0): Linear(in_features=4, out_features=4, bias=True)\n",
      "          (1): Linear(in_features=4, out_features=4, bias=True)\n",
      "        )\n",
      "        (dropout): Dropout(p=0.0, inplace=False)\n",
      "      )\n",
      "      (1): ResidualBlock(\n",
      "        (linear_layers): ModuleList(\n",
      "          (0): Linear(in_features=4, out_features=4, bias=True)\n",
      "          (1): Linear(in_features=4, out_features=4, bias=True)\n",
      "        )\n",
      "        (dropout): Dropout(p=0.0, inplace=False)\n",
      "      )\n",
      "    )\n",
      "    (final_layer): Linear(in_features=4, out_features=2, bias=True)\n",
      "  )\n",
      ")\n"
     ]
    }
   ],
   "source": [
    "for transform in nf_blocks:\n",
    "    print(transform)"
   ],
   "metadata": {
    "collapsed": false,
    "pycharm": {
     "name": "#%%\n"
    }
   }
  },
  {
   "cell_type": "code",
   "execution_count": 95,
   "outputs": [],
   "source": [
    "consequitive_samples = [prior_samples]\n",
    "current_sample = prior_samples\n",
    "\n",
    "for transform in nf_blocks:\n",
    "    current_sample, _ = transform(current_sample)\n",
    "    consequitive_samples.append(current_sample)"
   ],
   "metadata": {
    "collapsed": false,
    "pycharm": {
     "name": "#%%\n"
    }
   }
  },
  {
   "cell_type": "code",
   "execution_count": 95,
   "outputs": [],
   "source": [],
   "metadata": {
    "collapsed": false,
    "pycharm": {
     "name": "#%%\n"
    }
   }
  },
  {
   "cell_type": "code",
   "execution_count": 96,
   "outputs": [
    {
     "data": {
      "text/plain": "<Figure size 432x288 with 1 Axes>",
      "image/png": "[encoded data removed]"
     },
     "metadata": {
      "needs_background": "light"
     },
     "output_type": "display_data"
    },
    {
     "data": {
      "text/plain": "<Figure size 432x288 with 1 Axes>",
      "image/png": "[encoded data removed]"
     },
     "metadata": {
      "needs_background": "light"
     },
     "output_type": "display_data"
    },
    {
     "data": {
      "text/plain": "<Figure size 432x288 with 1 Axes>",
      "image/png": "[encoded data removed]"
     },
     "metadata": {
      "needs_background": "light"
     },
     "output_type": "display_data"
    }
   ],
   "source": [
    "for s in consequitive_samples:\n",
    "    s = s.detach().numpy()\n",
    "    plt.scatter(s[:, 0], s[:, 1])\n",
    "    plt.show()"
   ],
   "metadata": {
    "collapsed": false,
    "pycharm": {
     "name": "#%%\n"
    }
   }
  },
  {
   "cell_type": "markdown",
   "source": [
    "# Masked Autoregressive Flow (MAF)\n",
    "\n",
    "#TODO: Opis\n",
    "\n",
    "$$p(\\mathbf{x}) = \\Pi^{N}_{i=1} p(x_i|\\mathbf{x}_{1:i-1}) \\textit{,}$$\n",
    "gdzie\n",
    "$$p(x_i|\\mathbf{x}_{1:i-1}) = \\mathcal{N}(x_i|\\mu_i, (\\exp{(\\alpha_i)})^2 \\textit{,}$$\n",
    "gdzie $\\mu_i = f_{\\mu_i}(\\mathbf{x_{1:i-1}})$ i $\\alpha_i = f_{\\alpha_i}(\\mathbf{x_{1:i-1}})$\n",
    "\n",
    "\n",
    "Przykładowo: $p(x_1, x_2) = p(x_1)p(x_2|x_1)$, gdzie $p(x_1) = \\mathcal{N}(x_1|0, 4)$ i $p(x_2|x1) = \\mathcal{N}(x_2|x_1^2, 1)$."
   ],
   "metadata": {
    "collapsed": false,
    "pycharm": {
     "name": "#%% md\n"
    }
   }
  },
  {
   "cell_type": "code",
   "execution_count": 110,
   "outputs": [],
   "source": [
    "from nflows.transforms.autoregressive import MaskedAffineAutoregressiveTransform\n",
    "from nflows.transforms.permutations import RandomPermutation, ReversePermutation\n",
    "\n",
    "\n",
    "class MaskedAutoregressiveFlow(Flow):\n",
    "    def __init__(\n",
    "            self,\n",
    "            features,\n",
    "            hidden_features,\n",
    "            num_layers=2,\n",
    "            num_blocks_per_layer=2,\n",
    "            use_residual_blocks=True,\n",
    "            use_random_masks=False,\n",
    "            use_random_permutations=False,\n",
    "            activation=F.relu,\n",
    "            dropout_probability=0.0,\n",
    "            batch_norm_within_layers=False,\n",
    "            batch_norm_between_layers=False,\n",
    "    ):\n",
    "\n",
    "        if use_random_permutations:\n",
    "            permutation_constructor = RandomPermutation\n",
    "        else:\n",
    "            permutation_constructor = ReversePermutation\n",
    "\n",
    "        layers = []\n",
    "        for _ in range(num_layers):\n",
    "            layers.append(permutation_constructor(features))\n",
    "            layers.append(\n",
    "                MaskedAffineAutoregressiveTransform(\n",
    "                    features=features,\n",
    "                    hidden_features=hidden_features,\n",
    "                    num_blocks=num_blocks_per_layer,\n",
    "                    use_residual_blocks=use_residual_blocks,\n",
    "                    random_mask=use_random_masks,\n",
    "                    activation=activation,\n",
    "                    dropout_probability=dropout_probability,\n",
    "                    use_batch_norm=batch_norm_within_layers,\n",
    "                )\n",
    "            )\n",
    "            if batch_norm_between_layers:\n",
    "                layers.append(BatchNorm(features))\n",
    "\n",
    "        super().__init__(\n",
    "            transform=CompositeTransform(layers),\n",
    "            distribution=StandardNormal([features]),\n",
    "        )\n"
   ],
   "metadata": {
    "collapsed": false,
    "pycharm": {
     "name": "#%%\n"
    }
   }
  },
  {
   "cell_type": "code",
   "execution_count": 117,
   "outputs": [],
   "source": [
    "maf = MaskedAutoregressiveFlow(features=2, hidden_features=16, num_layers=4)\n",
    "maf_opt = optim.Adam(maf.parameters())"
   ],
   "metadata": {
    "collapsed": false,
    "pycharm": {
     "name": "#%%\n"
    }
   }
  },
  {
   "cell_type": "code",
   "execution_count": 118,
   "outputs": [
    {
     "data": {
      "text/plain": "<Figure size 432x288 with 1 Axes>",
      "image/png": "[encoded data removed]"
     },
     "metadata": {
      "needs_background": "light"
     },
     "output_type": "display_data"
    }
   ],
   "source": [
    "train(maf, maf_opt)"
   ],
   "metadata": {
    "collapsed": false,
    "pycharm": {
     "name": "#%%\n"
    }
   }
  },
  {
   "cell_type": "markdown",
   "source": [
    "# Ćwiczenie (5 min.)\n",
    "\n",
    "Zweryfikuj jak wyglądają kolejne transformacje modelu MAF analogicznie do przykładu RealNVP."
   ],
   "metadata": {
    "collapsed": false,
    "pycharm": {
     "name": "#%% md\n"
    }
   }
  },
  {
   "cell_type": "code",
   "execution_count": 113,
   "outputs": [],
   "source": [
    "# TODO: Your code goes here."
   ],
   "metadata": {
    "collapsed": false,
    "pycharm": {
     "name": "#%%\n"
    }
   }
  },
  {
   "cell_type": "markdown",
   "source": [
    "# Przerwa (10 min.)"
   ],
   "metadata": {
    "collapsed": false,
    "pycharm": {
     "name": "#%% md\n"
    }
   }
  },
  {
   "cell_type": "markdown",
   "source": [
    "# Conditional NICE\n",
    "\n",
    "#TODO: Opis\n",
    "\n",
    "$$\n",
    "\\begin{cases}\n",
    "    \\mathbf{u}_{1:d} &= \\mathbf{x}_{1:d} \\\\\n",
    "    \\mathbf{u}_{d+1:D} &= \\mathbf{x}_{d+1:D} + \\mu(\\mathbf{x}_{1:d}, \\mathbf{c})\n",
    "    \\end{cases}\n",
    "    \\Leftrightarrow\n",
    "    \\begin{cases}\n",
    "    \\mathbf{x}_{1:d} &= \\mathbf{u}_{1:d} \\\\\n",
    "    \\mathbf{x}_{d+1:D} &= \\mathbf{u}_{d+1:D} - \\mu(\\mathbf{u}_{1:d}, \\mathbf{c})\n",
    "\\end{cases}\n",
    "$$"
   ],
   "metadata": {
    "collapsed": false,
    "pycharm": {
     "name": "#%% md\n"
    }
   }
  },
  {
   "cell_type": "code",
   "execution_count": 119,
   "outputs": [],
   "source": [
    "class cNICE(Flow):\n",
    "    def __init__(\n",
    "            self,\n",
    "            features,\n",
    "            hidden_features,\n",
    "            context_features,  # New component\n",
    "            num_layers=2,\n",
    "            num_blocks_per_layer=2,\n",
    "            activation=F.relu,\n",
    "            dropout_probability=0.0,\n",
    "            batch_norm_within_layers=False,\n",
    "            batch_norm_between_layers=False,\n",
    "    ):\n",
    "\n",
    "        mask = torch.ones(features)\n",
    "        mask[::2] = -1\n",
    "\n",
    "        def create_resnet(in_features, out_features):\n",
    "            return nets.ResidualNet(\n",
    "                in_features,\n",
    "                out_features,\n",
    "                hidden_features=hidden_features,\n",
    "                context_features=context_features,  # New component\n",
    "                num_blocks=num_blocks_per_layer,\n",
    "                activation=activation,\n",
    "                dropout_probability=dropout_probability,\n",
    "                use_batch_norm=batch_norm_within_layers,\n",
    "            )\n",
    "\n",
    "        layers = []\n",
    "        for _ in range(num_layers):\n",
    "            transform = AdditiveCouplingTransform(mask=mask, transform_net_create_fn=create_resnet)\n",
    "            layers.append(transform)\n",
    "            mask *= -1\n",
    "            if batch_norm_between_layers:\n",
    "                layers.append(BatchNorm(features=features))\n",
    "\n",
    "        super().__init__(\n",
    "            transform=CompositeTransform(layers),\n",
    "            distribution=StandardNormal([features]),\n",
    "        )\n"
   ],
   "metadata": {
    "collapsed": false,
    "pycharm": {
     "name": "#%%\n"
    }
   }
  },
  {
   "cell_type": "code",
   "execution_count": 123,
   "outputs": [],
   "source": [
    "c_nice = cNICE(features=2, hidden_features=8, num_layers=4, context_features=1)\n",
    "c_nice_opt = optim.Adam(c_nice.parameters())"
   ],
   "metadata": {
    "collapsed": false,
    "pycharm": {
     "name": "#%%\n"
    }
   }
  },
  {
   "cell_type": "code",
   "execution_count": 124,
   "outputs": [],
   "source": [
    "def train_conditional(model, opt, num_iter=5000, iter_log=5000):\n",
    "    for i in range(num_iter):\n",
    "        x, y = datasets.make_moons(128, noise=.1)\n",
    "        x = torch.tensor(x, dtype=torch.float32)\n",
    "        y = torch.tensor(y, dtype=torch.float32).reshape(-1, 1)  # New\n",
    "        opt.zero_grad()\n",
    "        loss = -model.log_prob(inputs=x, context=y).mean()  # New\n",
    "        loss.backward()\n",
    "        opt.step()\n",
    "\n",
    "        if (i + 1) % iter_log == 0:\n",
    "            fig, ax = plt.subplots(1, 2, figsize=(12, 8))\n",
    "            xline = torch.linspace(-1.5, 2.5, 100)\n",
    "            yline = torch.linspace(-.75, 1.25, 100)\n",
    "            xgrid, ygrid = torch.meshgrid(xline, yline)\n",
    "            xyinput = torch.cat([xgrid.reshape(-1, 1), ygrid.reshape(-1, 1)], dim=1)\n",
    "\n",
    "            with torch.no_grad():\n",
    "                zgrid0 = model.log_prob(xyinput, torch.zeros(10000, 1)).exp().reshape(100, 100)\n",
    "                zgrid1 = model.log_prob(xyinput, torch.ones(10000, 1)).exp().reshape(100, 100)\n",
    "\n",
    "            ax[0].contourf(xgrid.numpy(), ygrid.numpy(), zgrid0.numpy())\n",
    "            ax[1].contourf(xgrid.numpy(), ygrid.numpy(), zgrid1.numpy())\n",
    "            fig.suptitle('iteration {}'.format(i + 1))\n",
    "            plt.show()"
   ],
   "metadata": {
    "collapsed": false,
    "pycharm": {
     "name": "#%%\n"
    }
   }
  },
  {
   "cell_type": "code",
   "execution_count": 125,
   "outputs": [
    {
     "data": {
      "text/plain": "<Figure size 864x576 with 2 Axes>",
      "image/png": "[encoded data removed]"
     },
     "metadata": {
      "needs_background": "light"
     },
     "output_type": "display_data"
    }
   ],
   "source": [
    "train_conditional(c_nice, c_nice_opt)"
   ],
   "metadata": {
    "collapsed": false,
    "pycharm": {
     "name": "#%%\n"
    }
   }
  },
  {
   "cell_type": "markdown",
   "source": [
    "# Ćwiczenie\n",
    "\n",
    "Wygeneruj próbki z modelu Conditional NICE dla górnego oraz dolnego półksiężyca"
   ],
   "metadata": {
    "collapsed": false,
    "pycharm": {
     "name": "#%% md\n"
    }
   }
  },
  {
   "cell_type": "code",
   "execution_count": 126,
   "outputs": [],
   "source": [
    "# TODO: Your code goes here."
   ],
   "metadata": {
    "collapsed": false,
    "pycharm": {
     "name": "#%%\n"
    }
   }
  },
  {
   "cell_type": "markdown",
   "source": [
    "# Conditional RealNVP\n",
    "\n",
    "#TODO: Opis\n",
    "\n",
    "$$\n",
    "\\begin{cases}\n",
    "    \\mathbf{u}_{1:d} &= \\mathbf{x}_{1:d} \\\\\n",
    "    \\mathbf{u}_{d+1:D} &= \\mathbf{x}_{d+1:D} \\odot \\exp{(\\sigma{(\\mathbf{x}_{1:d}, \\mathbf{c})})} + \\mu(\\mathbf{x}_{1:d}, \\mathbf{c})\n",
    "    \\end{cases}\n",
    "    \\Leftrightarrow\n",
    "    \\begin{cases}\n",
    "    \\mathbf{x}_{1:d} &= \\mathbf{u}_{1:d} \\\\\n",
    "    \\mathbf{x}_{d+1:D} &= (\\mathbf{u}_{d+1:D} - \\mu(\\mathbf{u}_{1:d}, \\mathbf{c})) \\odot \\exp{(-\\sigma{(\\mathbf{u}_{1:d}, \\mathbf{c}))}}\n",
    "\\end{cases}\n",
    "$$"
   ],
   "metadata": {
    "collapsed": false,
    "pycharm": {
     "name": "#%% md\n"
    }
   }
  },
  {
   "cell_type": "code",
   "execution_count": 104,
   "outputs": [],
   "source": [
    "from nflows.transforms import AffineCouplingTransform\n",
    "\n",
    "\n",
    "class cRealNVP(Flow):\n",
    "    def __init__(\n",
    "            self,\n",
    "            features,\n",
    "            hidden_features,\n",
    "            context_features,\n",
    "            num_layers=2,\n",
    "            num_blocks_per_layer=2,\n",
    "            activation=F.relu,\n",
    "            dropout_probability=0.0,\n",
    "            batch_norm_within_layers=False,\n",
    "            batch_norm_between_layers=False,\n",
    "    ):\n",
    "\n",
    "        mask = torch.ones(features)\n",
    "        mask[::2] = -1\n",
    "\n",
    "        def create_resnet(in_features, out_features):\n",
    "            return nets.ResidualNet(\n",
    "                in_features,\n",
    "                out_features,\n",
    "                hidden_features=hidden_features,\n",
    "                context_features=context_features,\n",
    "                num_blocks=num_blocks_per_layer,\n",
    "                activation=activation,\n",
    "                dropout_probability=dropout_probability,\n",
    "                use_batch_norm=batch_norm_within_layers,\n",
    "            )\n",
    "\n",
    "        layers = []\n",
    "        for _ in range(num_layers):\n",
    "            transform = AffineCouplingTransform(mask=mask, transform_net_create_fn=create_resnet)\n",
    "            layers.append(transform)\n",
    "            mask *= -1\n",
    "            if batch_norm_between_layers:\n",
    "                layers.append(BatchNorm(features=features))\n",
    "\n",
    "        super().__init__(\n",
    "            transform=CompositeTransform(layers),\n",
    "            distribution=StandardNormal([features]),\n",
    "        )"
   ],
   "metadata": {
    "collapsed": false,
    "pycharm": {
     "name": "#%%\n"
    }
   }
  },
  {
   "cell_type": "code",
   "execution_count": 127,
   "outputs": [],
   "source": [
    "c_real_nvp = cRealNVP(features=2, hidden_features=4, context_features=1)\n",
    "c_real_nvp_opt = optim.Adam(c_real_nvp.parameters())"
   ],
   "metadata": {
    "collapsed": false,
    "pycharm": {
     "name": "#%%\n"
    }
   }
  },
  {
   "cell_type": "code",
   "execution_count": 128,
   "outputs": [
    {
     "data": {
      "text/plain": "<Figure size 864x576 with 2 Axes>",
      "image/png": "[encoded data removed]"
     },
     "metadata": {
      "needs_background": "light"
     },
     "output_type": "display_data"
    }
   ],
   "source": [
    "train_conditional(c_real_nvp, c_real_nvp_opt)"
   ],
   "metadata": {
    "collapsed": false,
    "pycharm": {
     "name": "#%%\n"
    }
   }
  },
  {
   "cell_type": "markdown",
   "source": [
    "# Conditional Masked Autoregressive Flow (MAF)\n",
    "\n",
    "#TODO: Opis\n",
    "\n",
    "$$p(\\mathbf{x} | \\mathbf{c}) = \\Pi^{N}_{i=1} p(x_i|\\mathbf{x}_{1:i-1}, \\mathbf{c}) \\textit{,}$$\n",
    "gdzie\n",
    "$$p(x_i|\\mathbf{x}_{1:i-1}, \\mathbf{c}) = \\mathcal{N}(x_i|\\mu_i, (\\exp{(\\alpha_i)})^2 \\textit{,}$$\n",
    "gdzie $\\mu_i = f_{\\mu_i}(\\mathbf{x_{1:i-1}}, \\mathbf{c})$ i $\\alpha_i = f_{\\alpha_i}(\\mathbf{x_{1:i-1}}, \\mathbf{c})$\n"
   ],
   "metadata": {
    "collapsed": false,
    "pycharm": {
     "name": "#%% md\n"
    }
   }
  },
  {
   "cell_type": "code",
   "execution_count": 107,
   "outputs": [],
   "source": [
    "class cMaskedAutoregressiveFlow(Flow):\n",
    "    def __init__(\n",
    "            self,\n",
    "            features,\n",
    "            hidden_features,\n",
    "            context_features,\n",
    "            num_layers=2,\n",
    "            num_blocks_per_layer=2,\n",
    "            use_residual_blocks=True,\n",
    "            use_random_masks=False,\n",
    "            use_random_permutations=False,\n",
    "            activation=F.relu,\n",
    "            dropout_probability=0.0,\n",
    "            batch_norm_within_layers=False,\n",
    "            batch_norm_between_layers=False,\n",
    "    ):\n",
    "\n",
    "        if use_random_permutations:\n",
    "            permutation_constructor = RandomPermutation\n",
    "        else:\n",
    "            permutation_constructor = ReversePermutation\n",
    "\n",
    "        layers = []\n",
    "        for _ in range(num_layers):\n",
    "            layers.append(permutation_constructor(features))\n",
    "            layers.append(\n",
    "                MaskedAffineAutoregressiveTransform(\n",
    "                    features=features,\n",
    "                    hidden_features=hidden_features,\n",
    "                    context_features=context_features,\n",
    "                    num_blocks=num_blocks_per_layer,\n",
    "                    use_residual_blocks=use_residual_blocks,\n",
    "                    random_mask=use_random_masks,\n",
    "                    activation=activation,\n",
    "                    dropout_probability=dropout_probability,\n",
    "                    use_batch_norm=batch_norm_within_layers,\n",
    "                )\n",
    "            )\n",
    "            if batch_norm_between_layers:\n",
    "                layers.append(BatchNorm(features))\n",
    "\n",
    "        super().__init__(\n",
    "            transform=CompositeTransform(layers),\n",
    "            distribution=StandardNormal([features]),\n",
    "        )\n"
   ],
   "metadata": {
    "collapsed": false,
    "pycharm": {
     "name": "#%%\n"
    }
   }
  },
  {
   "cell_type": "code",
   "execution_count": 108,
   "outputs": [],
   "source": [
    "c_maf = cMaskedAutoregressiveFlow(features=2, hidden_features=4, context_features=1)\n",
    "c_maf_opt = optim.Adam(c_maf.parameters())"
   ],
   "metadata": {
    "collapsed": false,
    "pycharm": {
     "name": "#%%\n"
    }
   }
  },
  {
   "cell_type": "code",
   "execution_count": 109,
   "outputs": [
    {
     "data": {
      "text/plain": "<Figure size 864x576 with 2 Axes>",
      "image/png": "[encoded data removed]"
     },
     "metadata": {
      "needs_background": "light"
     },
     "output_type": "display_data"
    }
   ],
   "source": [
    "train_conditional(c_maf, c_maf_opt)"
   ],
   "metadata": {
    "collapsed": false,
    "pycharm": {
     "name": "#%%\n"
    }
   }
  },
  {
   "cell_type": "markdown",
   "source": [
    "## Metoda Flow Plugin Network (FPN)"
   ],
   "metadata": {
    "collapsed": false,
    "pycharm": {
     "name": "#%% md\n"
    }
   }
  },
  {
   "cell_type": "markdown",
   "source": [
    "### Koncepcja Plugin Network\n",
    "\n",
    "![Plugin Network](figures/plugin_koperski.png)\n",
    "\n",
    "Pomysł:\n",
    " - Rozszerzenie istniejącej sieci neuronowej bez dodatkowego treningu, np. gdy pojawią się dane z dodatkową informację (eng. partial evidence)\n",
    "\n",
    "Założenia koncepcji:\n",
    " - Nie przetrenowujemy oryginalnej sieci lecz jedynie trenujmy komponent plugin\n",
    " - Czas predykcji modelu jest jedynie nieznacznie większy"
   ],
   "metadata": {
    "collapsed": false,
    "pycharm": {
     "name": "#%% md\n"
    }
   }
  },
  {
   "cell_type": "markdown",
   "source": [
    "### Koncepcja Flow Plugin Network\n",
    "\n",
    "![](figures/schema-general.png)\n",
    "\n",
    "Pomysł:\n",
    " - Rozszerzenie Plugin Networku do modeli generatywnych"
   ],
   "metadata": {
    "collapsed": false,
    "pycharm": {
     "name": "#%% md\n"
    }
   }
  },
  {
   "cell_type": "markdown",
   "source": [
    "## Wykorzystanie metody FPN do warunkowego generowania obrazów"
   ],
   "metadata": {
    "collapsed": false,
    "pycharm": {
     "name": "#%% md\n"
    }
   }
  },
  {
   "cell_type": "code",
   "execution_count": 129,
   "outputs": [],
   "source": [
    "# Based on: https://github.com/lyeoni/pytorch-mnist-VAE\n",
    "\n",
    "import torch\n",
    "import torch.nn as nn\n",
    "import torch.nn.functional as F\n",
    "\n",
    "\n",
    "class VAE(nn.Module):\n",
    "    def __init__(self, x_dim, h_dim1, h_dim2, h_dim3, z_dim):\n",
    "        super(VAE, self).__init__()\n",
    "        self.x_dim = x_dim\n",
    "        # encoder part\n",
    "        self.e_fc1 = nn.Linear(x_dim, h_dim1)\n",
    "        self.e_fc2 = nn.Linear(h_dim1, h_dim2)\n",
    "        self.e_fc3 = nn.Linear(h_dim2, h_dim3)\n",
    "        self.fc_mu = nn.Linear(h_dim3, z_dim)\n",
    "        self.fc_logvar = nn.Linear(h_dim3, z_dim)\n",
    "        # decoder part\n",
    "        self.d_fc1 = nn.Linear(z_dim, h_dim3)\n",
    "        self.d_fc2 = nn.Linear(h_dim3, h_dim2)\n",
    "        self.d_fc3 = nn.Linear(h_dim2, h_dim1)\n",
    "        self.d_fc4 = nn.Linear(h_dim1, x_dim)\n",
    "\n",
    "    def encoder(self, x):\n",
    "        h = F.relu(self.e_fc1(x))\n",
    "        h = F.relu(self.e_fc2(h))\n",
    "        h = F.relu(self.e_fc3(h))\n",
    "        return self.fc_mu(h), self.fc_logvar(h)  # mu, log_var\n",
    "\n",
    "    def sampling(self, mu, log_var):\n",
    "        std = torch.exp(0.5 * log_var)\n",
    "        eps = torch.randn_like(std)\n",
    "        return eps.mul(std).add_(mu)  # return z sample\n",
    "\n",
    "    def decoder(self, z):\n",
    "        h = F.relu(self.d_fc1(z))\n",
    "        h = F.relu(self.d_fc2(h))\n",
    "        h = F.relu(self.d_fc3(h))\n",
    "        return torch.sigmoid(self.d_fc4(h))\n",
    "\n",
    "    def forward(self, x):\n",
    "        mu, log_var = self.encoder(x.view(-1, self.x_dim))\n",
    "        z = self.sampling(mu, log_var)\n",
    "        return self.decoder(z), mu, log_var\n"
   ],
   "metadata": {
    "collapsed": false,
    "pycharm": {
     "name": "#%%\n"
    }
   }
  },
  {
   "cell_type": "code",
   "execution_count": 130,
   "outputs": [],
   "source": [
    "from torchvision import datasets, transforms\n",
    "\n",
    "DEVICE = 'gpu' if torch.cuda.is_available() else 'cpu'\n",
    "\n",
    "\n",
    "# return reconstruction error + KL divergence losses\n",
    "def loss_function(recon_x, x, mu, log_var):\n",
    "    BCE = F.binary_cross_entropy(recon_x, x.view(-1, 784), reduction='sum')\n",
    "    KLD = -0.5 * torch.sum(1 + log_var - mu.pow(2) - log_var.exp())\n",
    "    return BCE + KLD\n",
    "\n",
    "\n",
    "def model_train(model, loader, optimizer, epoch):\n",
    "    model.train()\n",
    "    train_loss = 0\n",
    "    for batch_idx, (data, _) in enumerate(loader):\n",
    "        data = data.to(DEVICE)\n",
    "        optimizer.zero_grad()\n",
    "\n",
    "        recon_batch, mu, log_var = model(data)\n",
    "        loss = loss_function(recon_batch, data, mu, log_var)\n",
    "\n",
    "        loss.backward()\n",
    "        train_loss += loss.item()\n",
    "        optimizer.step()\n",
    "\n",
    "        if batch_idx % 100 == 0:\n",
    "            print('Train Epoch: {} [{}/{} ({:.0f}%)]\\tLoss: {:.6f}'.format(epoch, batch_idx * len(data),\n",
    "                                                                           len(loader.dataset),\n",
    "                                                                           100. * batch_idx / len(loader),\n",
    "                                                                           loss.item() / len(data)))\n",
    "    print('====> Epoch: {} Average loss: {:.4f}'.format(epoch, train_loss / len(train_loader.dataset)))\n",
    "\n",
    "\n",
    "def model_sample(model, z_dim):\n",
    "    with torch.no_grad():\n",
    "        z = torch.randn(64, z_dim).to(DEVICE)\n",
    "        return model.decoder(z).to(DEVICE)\n"
   ],
   "metadata": {
    "collapsed": false,
    "pycharm": {
     "name": "#%%\n"
    }
   }
  },
  {
   "cell_type": "code",
   "execution_count": null,
   "outputs": [],
   "source": [
    "z_dim = 40\n",
    "bs = 500\n",
    "num_epochs = 100\n",
    "\n",
    "train_dataset = datasets.MNIST(root='data', train=True, transform=transforms.ToTensor(), download=False)\n",
    "test_dataset = datasets.MNIST(root='data', train=False, transform=transforms.ToTensor(), download=False)\n",
    "\n",
    "train_loader = torch.utils.data.DataLoader(dataset=train_dataset, batch_size=bs, shuffle=True)\n",
    "test_loader = torch.utils.data.DataLoader(dataset=test_dataset, batch_size=bs, shuffle=False)\n",
    "\n",
    "vae = VAE(x_dim=784, h_dim1=512, h_dim2=256, h_dim3=128, z_dim=z_dim).to(DEVICE)\n",
    "optimizer = optim.Adam(vae.parameters())\n",
    "\n",
    "for epoch in range(1, num_epochs + 1):\n",
    "    model_train(vae, train_loader, optimizer, epoch)\n",
    "\n",
    "sample = model_sample(vae, z_dim)"
   ],
   "metadata": {
    "collapsed": false,
    "pycharm": {
     "name": "#%%\n"
    }
   }
  },
  {
   "cell_type": "code",
   "execution_count": null,
   "outputs": [],
   "source": [],
   "metadata": {
    "collapsed": false,
    "pycharm": {
     "name": "#%%\n"
    }
   }
  },
  {
   "cell_type": "markdown",
   "source": [
    "* Kod do wytrenowania prostego VAE\n",
    "* Wygenerowanie losowych obiektów\n",
    "* Kod do wytrenowania prostego FPNa\n",
    "* Wygenerowanie pożądanych obiektów"
   ],
   "metadata": {
    "collapsed": false,
    "pycharm": {
     "name": "#%% md\n"
    }
   }
  },
  {
   "cell_type": "markdown",
   "source": [
    "### Inne metody\n",
    "\n",
    "  * PluGeN\n",
    "  * StyleFlow\n",
    "\n",
    "#TODO: Dodać po obrazku z przykładem i krótki opis"
   ],
   "metadata": {
    "collapsed": false,
    "pycharm": {
     "name": "#%% md\n"
    }
   }
  },
  {
   "cell_type": "markdown",
   "source": [
    "## Wykorzystanie metody FPN do warunkowego generowania chmur punktów"
   ],
   "metadata": {
    "collapsed": false,
    "pycharm": {
     "name": "#%% md\n"
    }
   }
  },
  {
   "cell_type": "markdown",
   "source": [
    " * Zadanie: Wytrenować na podstawie powyższego kodu model do generowania chmur punktów\n",
    " * TODO: Dostarczyć PointFlowa (?)"
   ],
   "metadata": {
    "collapsed": false,
    "pycharm": {
     "name": "#%% md\n"
    }
   }
  },
  {
   "cell_type": "markdown",
   "source": [
    "## Bibliografia\n",
    "\n",
    "[Normalizing Flows]()\n",
    "[Flow based deep generative models](https://lilianweng.github.io/lil-log/2018/10/13/flow-based-deep-generative-models.html#nice)\n",
    "[NICE]()\n",
    "[RealNVP]()\n",
    "[MAF]()\n",
    "[Flow Plugin Network]()\n"
   ],
   "metadata": {
    "collapsed": false,
    "pycharm": {
     "name": "#%% md\n"
    }
   }
  }
 ],
 "metadata": {
  "kernelspec": {
   "display_name": "Python 3",
   "language": "python",
   "name": "python3"
  },
  "language_info": {
   "codemirror_mode": {
    "name": "ipython",
    "version": 3
   },
   "file_extension": ".py",
   "mimetype": "text/x-python",
   "name": "python",
   "nbconvert_exporter": "python",
   "pygments_lexer": "ipython3",
   "version": "3.9.2"
  }
 },
 "nbformat": 4,
 "nbformat_minor": 4
}
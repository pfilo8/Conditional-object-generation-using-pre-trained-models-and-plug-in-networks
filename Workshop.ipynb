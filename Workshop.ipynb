{
 "cells": [
  {
   "cell_type": "markdown",
   "source": [
    "# Conditional object generation using pre-trained models and plug-in-networks\n",
    "Prowadzący: **Patryk Wielopolski**, Politechnika Wrocławska\n",
    "Streszczenie:\n",
    "\n",
    "Generative models have gained many Machine Learning practitioners’ attention in the last years resulting in models such as StyleGAN for human face generation or PointFlow for the 3D point cloud generation. However, by default, we cannot control its sampling process, i.e., we cannot generate a sample with a specific set of attributes. The current approach is model retraining with additional inputs and different architecture, which requires time and computational resources.\n",
    "\n",
    "During this hands-on workshop we will go through a method which enables to generate objects with a given set of attributes without retraining the base model. For this purpose, we will utilize the normalizing flow models - Conditional Masked Autoregressive Flow and Conditional Real NVP, and plug-in networks resulting in the Flow Plugin Network.\n"
   ],
   "metadata": {
    "collapsed": false,
    "pycharm": {
     "name": "#%% md\n"
    }
   }
  },
  {
   "cell_type": "markdown",
   "source": [
    "Cel warsztatów:\n",
    " * Praktyczne zapoznanie się z modelami Normalizing Flows oraz biblioteką nflows\n",
    " * Praktyczne zapoznanie się z metodą Flow Plugin Network\n",
    "\n",
    "Agenda:\n",
    " * Wstęp do modeli generatywnych\n",
    " * Praktyczny wstęp do Normalizing Flows z wykorzystaniem pakietu **nflows**.\n",
    " * Metoda Flow Plugin Network (FPN)\n",
    " * Wykorzystanie metody FPN do warunkowego generowania obrazów\n",
    " * Wykorzystanie metody FPN do warunkowego generowania chmur punktów"
   ],
   "metadata": {
    "collapsed": false,
    "pycharm": {
     "name": "#%% md\n"
    }
   }
  },
  {
   "cell_type": "markdown",
   "source": [
    "## Wstęp do modeli generatywnych"
   ],
   "metadata": {
    "collapsed": false,
    "pycharm": {
     "name": "#%% md\n"
    }
   }
  },
  {
   "cell_type": "markdown",
   "source": [
    "## Modele generatywne\n",
    "\n",
    "![](figures/three-generative-models.png)"
   ],
   "metadata": {
    "collapsed": false,
    "pycharm": {
     "name": "#%% md\n"
    }
   }
  },
  {
   "cell_type": "markdown",
   "source": [
    "## Normalizing Flows\n",
    "\n",
    "![](figures/normalizing-flow.png)"
   ],
   "metadata": {
    "collapsed": false,
    "pycharm": {
     "name": "#%% md\n"
    }
   }
  },
  {
   "cell_type": "markdown",
   "source": [
    "## Praktyczny wstęp do Normalizing Flows z wykorzystaniem pakietu **nflows**."
   ],
   "metadata": {
    "collapsed": false,
    "pycharm": {
     "name": "#%% md\n"
    }
   }
  },
  {
   "cell_type": "markdown",
   "source": [
    "Omówienie modeli:\n",
    "  * NICE\n",
    "  * RealNVP\n",
    "  * MAF\n",
    "\n",
    "Omówienie warunkowych modeli:\n",
    "  * Conditional NICE\n",
    "  * Conditional RealNVP\n",
    "  * Conditional MAF"
   ],
   "metadata": {
    "collapsed": false,
    "pycharm": {
     "name": "#%% md\n"
    }
   }
  },
  {
   "cell_type": "markdown",
   "source": [
    "### Konstrukcja biblioteki nflows\n",
    "\n",
    "Krótkie omówienie biblioteki\n",
    "\n",
    "  * Distributions\n",
    "  * Flows\n",
    "  * Nn\n",
    "  * Transforms\n",
    "  * Utils"
   ],
   "metadata": {
    "collapsed": false,
    "pycharm": {
     "name": "#%% md\n"
    }
   }
  },
  {
   "cell_type": "markdown",
   "source": [
    "### Toy example data"
   ],
   "metadata": {
    "collapsed": false,
    "pycharm": {
     "name": "#%% md\n"
    }
   }
  },
  {
   "cell_type": "code",
   "execution_count": 61,
   "metadata": {
    "pycharm": {
     "name": "#%%\n"
    }
   },
   "outputs": [],
   "source": [
    "import matplotlib.pyplot as plt\n",
    "import sklearn.datasets as datasets"
   ]
  },
  {
   "cell_type": "code",
   "execution_count": 62,
   "metadata": {
    "pycharm": {
     "name": "#%%\n"
    }
   },
   "outputs": [
    {
     "data": {
      "text/plain": "<Figure size 432x288 with 1 Axes>",
      "image/png": "[encoded data removed]"
     },
     "metadata": {
      "needs_background": "light"
     },
     "output_type": "display_data"
    }
   ],
   "source": [
    "x, y = datasets.make_moons(128, noise=.1)\n",
    "plt.scatter(x[:, 0], x[:, 1]);"
   ]
  },
  {
   "cell_type": "markdown",
   "source": [
    "### NICE (Non-linear Independent Component Estimation)\n",
    "\n",
    "The NICE (Non-linear Independent Component Estimation; Dinh, et al. 2015) model is a predecessor of RealNVP. The transformation in NICE is the affine coupling layer without the scale term, known as additive coupling layer.\n",
    "\n",
    "$$\n",
    "\\begin{cases}\n",
    "    \\mathbf{u}_{1:d} &= \\mathbf{x}_{1:d} \\\\\n",
    "    \\mathbf{u}_{d+1:D} &= \\mathbf{x}_{d+1:D} + \\mu(\\mathbf{x}_{1:d})\n",
    "    \\end{cases}\n",
    "    \\Leftrightarrow\n",
    "    \\begin{cases}\n",
    "    \\mathbf{x}_{1:d} &= \\mathbf{u}_{1:d} \\\\\n",
    "    \\mathbf{x}_{d+1:D} &= \\mathbf{u}_{d+1:D} - \\mu(\\mathbf{u}_{1:d})\n",
    "\\end{cases}\n",
    "$$"
   ],
   "metadata": {
    "collapsed": false,
    "pycharm": {
     "name": "#%% md\n"
    }
   }
  },
  {
   "cell_type": "code",
   "execution_count": 63,
   "outputs": [],
   "source": [
    "import torch\n",
    "import torch.optim as optim\n",
    "import torch.nn.functional as F\n",
    "\n",
    "from nflows.distributions.normal import StandardNormal\n",
    "from nflows.flows.base import Flow\n",
    "from nflows.nn import nets as nets\n",
    "from nflows.transforms.base import CompositeTransform\n",
    "from nflows.transforms.coupling import AdditiveCouplingTransform\n",
    "from nflows.transforms.normalization import BatchNorm\n",
    "\n",
    "\n",
    "class NICE(Flow):\n",
    "    def __init__(\n",
    "            self,\n",
    "            features,\n",
    "            hidden_features,\n",
    "            num_layers=2,\n",
    "            num_blocks_per_layer=2,\n",
    "            activation=F.relu,\n",
    "            dropout_probability=0.0,\n",
    "            batch_norm_within_layers=False,\n",
    "            batch_norm_between_layers=False,\n",
    "    ):\n",
    "\n",
    "        mask = torch.ones(features)\n",
    "        mask[::2] = -1\n",
    "\n",
    "        def create_resnet(in_features, out_features):\n",
    "            return nets.ResidualNet(\n",
    "                in_features,\n",
    "                out_features,\n",
    "                hidden_features=hidden_features,\n",
    "                num_blocks=num_blocks_per_layer,\n",
    "                activation=activation,\n",
    "                dropout_probability=dropout_probability,\n",
    "                use_batch_norm=batch_norm_within_layers,\n",
    "            )\n",
    "\n",
    "        layers = []\n",
    "        for _ in range(num_layers):\n",
    "            transform = AdditiveCouplingTransform(mask=mask, transform_net_create_fn=create_resnet)\n",
    "            layers.append(transform)\n",
    "            mask *= -1\n",
    "            if batch_norm_between_layers:\n",
    "                layers.append(BatchNorm(features=features))\n",
    "\n",
    "        super().__init__(\n",
    "            transform=CompositeTransform(layers),\n",
    "            distribution=StandardNormal([features]),\n",
    "        )\n"
   ],
   "metadata": {
    "collapsed": false,
    "pycharm": {
     "name": "#%%\n"
    }
   }
  },
  {
   "cell_type": "code",
   "execution_count": 64,
   "metadata": {
    "pycharm": {
     "name": "#%%\n"
    }
   },
   "outputs": [],
   "source": [
    "nice = NICE(features=2, hidden_features=4, num_layers=2, num_blocks_per_layer=2)\n",
    "nice_opt = optim.Adam(nice.parameters())"
   ]
  },
  {
   "cell_type": "code",
   "execution_count": 65,
   "outputs": [],
   "source": [
    "def train(model, opt, num_iter=5000, iter_log=5000):\n",
    "    for i in range(num_iter):\n",
    "        x, y = datasets.make_moons(128, noise=.1)\n",
    "        x = torch.tensor(x, dtype=torch.float32)\n",
    "        opt.zero_grad()\n",
    "        loss = -model.log_prob(inputs=x).mean()\n",
    "        loss.backward()\n",
    "        opt.step()\n",
    "\n",
    "        if (i + 1) % iter_log == 0:\n",
    "            xline = torch.linspace(-1.5, 2.5, 100)\n",
    "            yline = torch.linspace(-.75, 1.25, 100)\n",
    "            xgrid, ygrid = torch.meshgrid(xline, yline)\n",
    "            xyinput = torch.cat([xgrid.reshape(-1, 1), ygrid.reshape(-1, 1)], dim=1)\n",
    "\n",
    "            with torch.no_grad():\n",
    "                zgrid = model.log_prob(xyinput).exp().reshape(100, 100)\n",
    "\n",
    "            plt.contourf(xgrid.numpy(), ygrid.numpy(), zgrid.numpy())\n",
    "            plt.title('iteration {}'.format(i + 1))\n",
    "            plt.show()"
   ],
   "metadata": {
    "collapsed": false,
    "pycharm": {
     "name": "#%%\n"
    }
   }
  },
  {
   "cell_type": "code",
   "execution_count": 66,
   "metadata": {
    "scrolled": false,
    "pycharm": {
     "name": "#%%\n"
    }
   },
   "outputs": [
    {
     "data": {
      "text/plain": "<Figure size 432x288 with 1 Axes>",
      "image/png": "[encoded data removed]"
     },
     "metadata": {
      "needs_background": "light"
     },
     "output_type": "display_data"
    }
   ],
   "source": [
    "train(nice, nice_opt)"
   ]
  },
  {
   "cell_type": "markdown",
   "source": [
    "### RealNVP\n",
    "\n",
    "$$\n",
    "\\begin{cases}\n",
    "    \\mathbf{u}_{1:d} &= \\mathbf{x}_{1:d} \\\\\n",
    "    \\mathbf{u}_{d+1:D} &= \\mathbf{x}_{d+1:D} \\odot \\exp{(\\sigma{(\\mathbf{x}_{1:d})})} + \\mu(\\mathbf{x}_{1:d})\n",
    "    \\end{cases}\n",
    "    \\Leftrightarrow\n",
    "    \\begin{cases}\n",
    "    \\mathbf{x}_{1:d} &= \\mathbf{u}_{1:d} \\\\\n",
    "    \\mathbf{x}_{d+1:D} &= (\\mathbf{u}_{d+1:D} - \\mu(\\mathbf{u}_{1:d})) \\odot \\exp{(-\\sigma{(\\mathbf{u}_{1:d})})}\n",
    "\\end{cases}\n",
    "$$\n"
   ],
   "metadata": {
    "collapsed": false,
    "pycharm": {
     "name": "#%% md\n"
    }
   }
  },
  {
   "cell_type": "code",
   "execution_count": 67,
   "outputs": [],
   "source": [
    "from nflows.transforms import AffineCouplingTransform\n",
    "\n",
    "\n",
    "class RealNVP(Flow):\n",
    "    def __init__(\n",
    "            self,\n",
    "            features,\n",
    "            hidden_features,\n",
    "            num_layers=2,\n",
    "            num_blocks_per_layer=2,\n",
    "            activation=F.relu,\n",
    "            dropout_probability=0.0,\n",
    "            batch_norm_within_layers=False,\n",
    "            batch_norm_between_layers=False,\n",
    "    ):\n",
    "\n",
    "        mask = torch.ones(features)\n",
    "        mask[::2] = -1\n",
    "\n",
    "        def create_resnet(in_features, out_features):\n",
    "            return nets.ResidualNet(\n",
    "                in_features,\n",
    "                out_features,\n",
    "                hidden_features=hidden_features,\n",
    "                num_blocks=num_blocks_per_layer,\n",
    "                activation=activation,\n",
    "                dropout_probability=dropout_probability,\n",
    "                use_batch_norm=batch_norm_within_layers,\n",
    "            )\n",
    "\n",
    "        layers = []\n",
    "        for _ in range(num_layers):\n",
    "            transform = AffineCouplingTransform(mask=mask, transform_net_create_fn=create_resnet)\n",
    "            layers.append(transform)\n",
    "            mask *= -1\n",
    "            if batch_norm_between_layers:\n",
    "                layers.append(BatchNorm(features=features))\n",
    "\n",
    "        super().__init__(\n",
    "            transform=CompositeTransform(layers),\n",
    "            distribution=StandardNormal([features]),\n",
    "        )"
   ],
   "metadata": {
    "collapsed": false,
    "pycharm": {
     "name": "#%%\n"
    }
   }
  },
  {
   "cell_type": "code",
   "execution_count": 68,
   "outputs": [],
   "source": [
    "real_nvp = RealNVP(features=2, hidden_features=4, num_layers=2, num_blocks_per_layer=2)\n",
    "real_nvp_opt = optim.Adam(real_nvp.parameters())"
   ],
   "metadata": {
    "collapsed": false,
    "pycharm": {
     "name": "#%%\n"
    }
   }
  },
  {
   "cell_type": "code",
   "execution_count": 69,
   "outputs": [
    {
     "data": {
      "text/plain": "<Figure size 432x288 with 1 Axes>",
      "image/png": "[encoded data removed]"
     },
     "metadata": {
      "needs_background": "light"
     },
     "output_type": "display_data"
    }
   ],
   "source": [
    "train(real_nvp, real_nvp_opt)"
   ],
   "metadata": {
    "collapsed": false,
    "pycharm": {
     "name": "#%%\n"
    }
   }
  },
  {
   "cell_type": "markdown",
   "source": [
    "### Masked Autoregressive Flow (MAF)"
   ],
   "metadata": {
    "collapsed": false,
    "pycharm": {
     "name": "#%% md\n"
    }
   }
  },
  {
   "cell_type": "code",
   "execution_count": 70,
   "outputs": [],
   "source": [
    "from nflows.transforms.autoregressive import MaskedAffineAutoregressiveTransform\n",
    "from nflows.transforms.permutations import RandomPermutation, ReversePermutation\n",
    "\n",
    "\n",
    "class MaskedAutoregressiveFlow(Flow):\n",
    "    def __init__(\n",
    "            self,\n",
    "            features,\n",
    "            hidden_features,\n",
    "            num_layers=2,\n",
    "            num_blocks_per_layer=2,\n",
    "            use_residual_blocks=True,\n",
    "            use_random_masks=False,\n",
    "            use_random_permutations=False,\n",
    "            activation=F.relu,\n",
    "            dropout_probability=0.0,\n",
    "            batch_norm_within_layers=False,\n",
    "            batch_norm_between_layers=False,\n",
    "    ):\n",
    "\n",
    "        if use_random_permutations:\n",
    "            permutation_constructor = RandomPermutation\n",
    "        else:\n",
    "            permutation_constructor = ReversePermutation\n",
    "\n",
    "        layers = []\n",
    "        for _ in range(num_layers):\n",
    "            layers.append(permutation_constructor(features))\n",
    "            layers.append(\n",
    "                MaskedAffineAutoregressiveTransform(\n",
    "                    features=features,\n",
    "                    hidden_features=hidden_features,\n",
    "                    num_blocks=num_blocks_per_layer,\n",
    "                    use_residual_blocks=use_residual_blocks,\n",
    "                    random_mask=use_random_masks,\n",
    "                    activation=activation,\n",
    "                    dropout_probability=dropout_probability,\n",
    "                    use_batch_norm=batch_norm_within_layers,\n",
    "                )\n",
    "            )\n",
    "            if batch_norm_between_layers:\n",
    "                layers.append(BatchNorm(features))\n",
    "\n",
    "        super().__init__(\n",
    "            transform=CompositeTransform(layers),\n",
    "            distribution=StandardNormal([features]),\n",
    "        )\n"
   ],
   "metadata": {
    "collapsed": false,
    "pycharm": {
     "name": "#%%\n"
    }
   }
  },
  {
   "cell_type": "code",
   "execution_count": 71,
   "outputs": [],
   "source": [
    "maf = MaskedAutoregressiveFlow(features=2, hidden_features=4)\n",
    "maf_opt = optim.Adam(maf.parameters())"
   ],
   "metadata": {
    "collapsed": false,
    "pycharm": {
     "name": "#%%\n"
    }
   }
  },
  {
   "cell_type": "code",
   "execution_count": 72,
   "outputs": [
    {
     "data": {
      "text/plain": "<Figure size 432x288 with 1 Axes>",
      "image/png": "[encoded data removed]"
     },
     "metadata": {
      "needs_background": "light"
     },
     "output_type": "display_data"
    }
   ],
   "source": [
    "train(maf, maf_opt)"
   ],
   "metadata": {
    "collapsed": false,
    "pycharm": {
     "name": "#%%\n"
    }
   }
  },
  {
   "cell_type": "markdown",
   "source": [
    "### Conditional NICE\n",
    "\n",
    "$$\n",
    "\\begin{cases}\n",
    "    \\mathbf{u}_{1:d} &= \\mathbf{x}_{1:d} \\\\\n",
    "    \\mathbf{u}_{d+1:D} &= \\mathbf{x}_{d+1:D} + \\mu(\\mathbf{x}_{1:d}, \\mathbf{c})\n",
    "    \\end{cases}\n",
    "    \\Leftrightarrow\n",
    "    \\begin{cases}\n",
    "    \\mathbf{x}_{1:d} &= \\mathbf{u}_{1:d} \\\\\n",
    "    \\mathbf{x}_{d+1:D} &= \\mathbf{u}_{d+1:D} - \\mu(\\mathbf{u}_{1:d}, \\mathbf{c})\n",
    "\\end{cases}\n",
    "$$"
   ],
   "metadata": {
    "collapsed": false,
    "pycharm": {
     "name": "#%% md\n"
    }
   }
  },
  {
   "cell_type": "code",
   "execution_count": 73,
   "outputs": [],
   "source": [
    "import torch\n",
    "import torch.optim as optim\n",
    "import torch.nn.functional as F\n",
    "\n",
    "from nflows.distributions.normal import StandardNormal\n",
    "from nflows.flows.base import Flow\n",
    "from nflows.nn import nets as nets\n",
    "from nflows.transforms.base import CompositeTransform\n",
    "from nflows.transforms.coupling import AdditiveCouplingTransform\n",
    "from nflows.transforms.normalization import BatchNorm\n",
    "\n",
    "\n",
    "class cNICE(Flow):\n",
    "    def __init__(\n",
    "            self,\n",
    "            features,\n",
    "            hidden_features,\n",
    "            context_features,\n",
    "            num_layers=2,\n",
    "            num_blocks_per_layer=2,\n",
    "            activation=F.relu,\n",
    "            dropout_probability=0.0,\n",
    "            batch_norm_within_layers=False,\n",
    "            batch_norm_between_layers=False,\n",
    "    ):\n",
    "\n",
    "        mask = torch.ones(features)\n",
    "        mask[::2] = -1\n",
    "\n",
    "        def create_resnet(in_features, out_features):\n",
    "            return nets.ResidualNet(\n",
    "                in_features,\n",
    "                out_features,\n",
    "                hidden_features=hidden_features,\n",
    "                context_features=context_features,\n",
    "                num_blocks=num_blocks_per_layer,\n",
    "                activation=activation,\n",
    "                dropout_probability=dropout_probability,\n",
    "                use_batch_norm=batch_norm_within_layers,\n",
    "            )\n",
    "\n",
    "        layers = []\n",
    "        for _ in range(num_layers):\n",
    "            transform = AdditiveCouplingTransform(mask=mask, transform_net_create_fn=create_resnet)\n",
    "            layers.append(transform)\n",
    "            mask *= -1\n",
    "            if batch_norm_between_layers:\n",
    "                layers.append(BatchNorm(features=features))\n",
    "\n",
    "        super().__init__(\n",
    "            transform=CompositeTransform(layers),\n",
    "            distribution=StandardNormal([features]),\n",
    "        )\n"
   ],
   "metadata": {
    "collapsed": false,
    "pycharm": {
     "name": "#%%\n"
    }
   }
  },
  {
   "cell_type": "code",
   "execution_count": 74,
   "outputs": [],
   "source": [
    "c_nice = cNICE(features=2, hidden_features=4, context_features=1)\n",
    "c_nice_opt = optim.Adam(c_nice.parameters())"
   ],
   "metadata": {
    "collapsed": false,
    "pycharm": {
     "name": "#%%\n"
    }
   }
  },
  {
   "cell_type": "code",
   "execution_count": 75,
   "outputs": [],
   "source": [
    "def train_conditional(model, opt, num_iter=5000, iter_log=5000):\n",
    "    for i in range(num_iter):\n",
    "        x, y = datasets.make_moons(128, noise=.1)\n",
    "        x = torch.tensor(x, dtype=torch.float32)\n",
    "        y = torch.tensor(y, dtype=torch.float32).reshape(-1, 1)\n",
    "        opt.zero_grad()\n",
    "        loss = -model.log_prob(inputs=x, context=y).mean()\n",
    "        loss.backward()\n",
    "        opt.step()\n",
    "\n",
    "        if (i + 1) % iter_log == 0:\n",
    "            fig, ax = plt.subplots(1, 2, figsize=(12, 8))\n",
    "            xline = torch.linspace(-1.5, 2.5, 100)\n",
    "            yline = torch.linspace(-.75, 1.25, 100)\n",
    "            xgrid, ygrid = torch.meshgrid(xline, yline)\n",
    "            xyinput = torch.cat([xgrid.reshape(-1, 1), ygrid.reshape(-1, 1)], dim=1)\n",
    "\n",
    "            with torch.no_grad():\n",
    "                zgrid0 = model.log_prob(xyinput, torch.zeros(10000, 1)).exp().reshape(100, 100)\n",
    "                zgrid1 = model.log_prob(xyinput, torch.ones(10000, 1)).exp().reshape(100, 100)\n",
    "\n",
    "            ax[0].contourf(xgrid.numpy(), ygrid.numpy(), zgrid0.numpy())\n",
    "            ax[1].contourf(xgrid.numpy(), ygrid.numpy(), zgrid1.numpy())\n",
    "            fig.suptitle('iteration {}'.format(i + 1))\n",
    "            plt.show()"
   ],
   "metadata": {
    "collapsed": false,
    "pycharm": {
     "name": "#%%\n"
    }
   }
  },
  {
   "cell_type": "code",
   "execution_count": 76,
   "outputs": [
    {
     "data": {
      "text/plain": "<Figure size 864x576 with 2 Axes>",
      "image/png": "[encoded data removed]"
     },
     "metadata": {
      "needs_background": "light"
     },
     "output_type": "display_data"
    }
   ],
   "source": [
    "train_conditional(c_nice, c_nice_opt)"
   ],
   "metadata": {
    "collapsed": false,
    "pycharm": {
     "name": "#%%\n"
    }
   }
  },
  {
   "cell_type": "markdown",
   "source": [
    "### Conditional RealNVP\n",
    "\n",
    "$$\n",
    "\\begin{cases}\n",
    "    \\mathbf{u}_{1:d} &= \\mathbf{x}_{1:d} \\\\\n",
    "    \\mathbf{u}_{d+1:D} &= \\mathbf{x}_{d+1:D} \\odot \\exp{(\\sigma{(\\mathbf{x}_{1:d}, \\mathbf{c})})} + \\mu(\\mathbf{x}_{1:d}, \\mathbf{c})\n",
    "    \\end{cases}\n",
    "    \\Leftrightarrow\n",
    "    \\begin{cases}\n",
    "    \\mathbf{x}_{1:d} &= \\mathbf{u}_{1:d} \\\\\n",
    "    \\mathbf{x}_{d+1:D} &= (\\mathbf{u}_{d+1:D} - \\mu(\\mathbf{u}_{1:d}, \\mathbf{c})) \\odot \\exp{(-\\sigma{(\\mathbf{u}_{1:d}, \\mathbf{c}))}}\n",
    "\\end{cases}\n",
    "$$"
   ],
   "metadata": {
    "collapsed": false,
    "pycharm": {
     "name": "#%% md\n"
    }
   }
  },
  {
   "cell_type": "code",
   "execution_count": 77,
   "outputs": [],
   "source": [
    "class cRealNVP(Flow):\n",
    "    def __init__(\n",
    "            self,\n",
    "            features,\n",
    "            hidden_features,\n",
    "            context_features,\n",
    "            num_layers=2,\n",
    "            num_blocks_per_layer=2,\n",
    "            activation=F.relu,\n",
    "            dropout_probability=0.0,\n",
    "            batch_norm_within_layers=False,\n",
    "            batch_norm_between_layers=False,\n",
    "    ):\n",
    "\n",
    "        mask = torch.ones(features)\n",
    "        mask[::2] = -1\n",
    "\n",
    "        def create_resnet(in_features, out_features):\n",
    "            return nets.ResidualNet(\n",
    "                in_features,\n",
    "                out_features,\n",
    "                hidden_features=hidden_features,\n",
    "                context_features=context_features,\n",
    "                num_blocks=num_blocks_per_layer,\n",
    "                activation=activation,\n",
    "                dropout_probability=dropout_probability,\n",
    "                use_batch_norm=batch_norm_within_layers,\n",
    "            )\n",
    "\n",
    "        layers = []\n",
    "        for _ in range(num_layers):\n",
    "            transform = AffineCouplingTransform(mask=mask, transform_net_create_fn=create_resnet)\n",
    "            layers.append(transform)\n",
    "            mask *= -1\n",
    "            if batch_norm_between_layers:\n",
    "                layers.append(BatchNorm(features=features))\n",
    "\n",
    "        super().__init__(\n",
    "            transform=CompositeTransform(layers),\n",
    "            distribution=StandardNormal([features]),\n",
    "        )"
   ],
   "metadata": {
    "collapsed": false,
    "pycharm": {
     "name": "#%%\n"
    }
   }
  },
  {
   "cell_type": "code",
   "execution_count": 78,
   "outputs": [],
   "source": [
    "c_real_nvp = cRealNVP(features=2, hidden_features=4, context_features=1)\n",
    "c_real_nvp_opt = optim.Adam(c_real_nvp.parameters())"
   ],
   "metadata": {
    "collapsed": false,
    "pycharm": {
     "name": "#%%\n"
    }
   }
  },
  {
   "cell_type": "code",
   "execution_count": 79,
   "outputs": [
    {
     "data": {
      "text/plain": "<Figure size 864x576 with 2 Axes>",
      "image/png": "[encoded data removed]"
     },
     "metadata": {
      "needs_background": "light"
     },
     "output_type": "display_data"
    }
   ],
   "source": [
    "train_conditional(c_real_nvp, c_real_nvp_opt)"
   ],
   "metadata": {
    "collapsed": false,
    "pycharm": {
     "name": "#%%\n"
    }
   }
  },
  {
   "cell_type": "markdown",
   "source": [
    "### Conditional Masked Autoregressive Flow (MAF)"
   ],
   "metadata": {
    "collapsed": false,
    "pycharm": {
     "name": "#%% md\n"
    }
   }
  },
  {
   "cell_type": "code",
   "execution_count": 80,
   "outputs": [],
   "source": [
    "class cMaskedAutoregressiveFlow(Flow):\n",
    "    def __init__(\n",
    "            self,\n",
    "            features,\n",
    "            hidden_features,\n",
    "            context_features,\n",
    "            num_layers=2,\n",
    "            num_blocks_per_layer=2,\n",
    "            use_residual_blocks=True,\n",
    "            use_random_masks=False,\n",
    "            use_random_permutations=False,\n",
    "            activation=F.relu,\n",
    "            dropout_probability=0.0,\n",
    "            batch_norm_within_layers=False,\n",
    "            batch_norm_between_layers=False,\n",
    "    ):\n",
    "\n",
    "        if use_random_permutations:\n",
    "            permutation_constructor = RandomPermutation\n",
    "        else:\n",
    "            permutation_constructor = ReversePermutation\n",
    "\n",
    "        layers = []\n",
    "        for _ in range(num_layers):\n",
    "            layers.append(permutation_constructor(features))\n",
    "            layers.append(\n",
    "                MaskedAffineAutoregressiveTransform(\n",
    "                    features=features,\n",
    "                    hidden_features=hidden_features,\n",
    "                    context_features=context_features,\n",
    "                    num_blocks=num_blocks_per_layer,\n",
    "                    use_residual_blocks=use_residual_blocks,\n",
    "                    random_mask=use_random_masks,\n",
    "                    activation=activation,\n",
    "                    dropout_probability=dropout_probability,\n",
    "                    use_batch_norm=batch_norm_within_layers,\n",
    "                )\n",
    "            )\n",
    "            if batch_norm_between_layers:\n",
    "                layers.append(BatchNorm(features))\n",
    "\n",
    "        super().__init__(\n",
    "            transform=CompositeTransform(layers),\n",
    "            distribution=StandardNormal([features]),\n",
    "        )\n"
   ],
   "metadata": {
    "collapsed": false,
    "pycharm": {
     "name": "#%%\n"
    }
   }
  },
  {
   "cell_type": "code",
   "execution_count": 81,
   "outputs": [],
   "source": [
    "c_maf = cMaskedAutoregressiveFlow(features=2, hidden_features=4, context_features=1)\n",
    "c_maf_opt = optim.Adam(c_maf.parameters())"
   ],
   "metadata": {
    "collapsed": false,
    "pycharm": {
     "name": "#%%\n"
    }
   }
  },
  {
   "cell_type": "code",
   "execution_count": null,
   "outputs": [],
   "source": [
    "train_conditional(c_maf, c_maf_opt)"
   ],
   "metadata": {
    "collapsed": false,
    "pycharm": {
     "name": "#%%\n",
     "is_executing": true
    }
   }
  },
  {
   "cell_type": "markdown",
   "source": [
    "## Metoda Flow Plugin Network (FPN)"
   ],
   "metadata": {
    "collapsed": false,
    "pycharm": {
     "name": "#%% md\n"
    }
   }
  },
  {
   "cell_type": "markdown",
   "source": [
    "### Koncepcja Plugin Network\n",
    "\n",
    "![Plugin Network](figures/plugin_koperski.png)\n",
    "\n",
    "Pomysł:\n",
    " - Rozszerzenie istniejącej sieci neuronowej bez dodatkowego treningu, np. gdy pojawią się dane z dodatkową informację (eng. partial evidence)\n",
    "\n",
    "Założenia koncepcji:\n",
    " - Nie przetrenowujemy oryginalnej sieci lecz jedynie trenujmy komponent plugin\n",
    " - Czas predykcji modelu jest jedynie nieznacznie większy"
   ],
   "metadata": {
    "collapsed": false,
    "pycharm": {
     "name": "#%% md\n"
    }
   }
  },
  {
   "cell_type": "markdown",
   "source": [
    "### Koncepcja Flow Plugin Network\n",
    "\n",
    "![](figures/schema-general.png)\n",
    "\n",
    "Pomysł:\n",
    " - Rozszerzenie Plugin Networku do modeli generatywnych"
   ],
   "metadata": {
    "collapsed": false,
    "pycharm": {
     "name": "#%% md\n"
    }
   }
  },
  {
   "cell_type": "markdown",
   "source": [
    "## Wykorzystanie metody FPN do warunkowego generowania obrazów"
   ],
   "metadata": {
    "collapsed": false,
    "pycharm": {
     "name": "#%% md\n"
    }
   }
  },
  {
   "cell_type": "markdown",
   "source": [
    "* Kod do wytrenowania prostego VAE\n",
    "* Wygenerowanie losowych obiektów\n",
    "* Kod do wytrenowania prostego FPNa\n",
    "* Wygenerowanie pożądanych obiektów"
   ],
   "metadata": {
    "collapsed": false,
    "pycharm": {
     "name": "#%% md\n"
    }
   }
  },
  {
   "cell_type": "markdown",
   "source": [
    "### Inne metody\n",
    "\n",
    "  * PluGeN\n",
    "  * StyleFlow\n",
    "\n",
    "#TODO: Dodać po obrazku z przykładem i krótki opis"
   ],
   "metadata": {
    "collapsed": false,
    "pycharm": {
     "name": "#%% md\n"
    }
   }
  },
  {
   "cell_type": "markdown",
   "source": [
    "## Wykorzystanie metody FPN do warunkowego generowania chmur punktów"
   ],
   "metadata": {
    "collapsed": false,
    "pycharm": {
     "name": "#%% md\n"
    }
   }
  },
  {
   "cell_type": "markdown",
   "source": [
    " * Zadanie: Wytrenować na podstawie powyższego kodu model do generowania chmur punktów\n",
    " * TODO: Dostarczyć PointFlowa (?)"
   ],
   "metadata": {
    "collapsed": false,
    "pycharm": {
     "name": "#%% md\n"
    }
   }
  },
  {
   "cell_type": "markdown",
   "source": [
    "## Bibliografia\n",
    "\n",
    "[Normalizing Flows]()\n",
    "[Flow based deep generative models](https://lilianweng.github.io/lil-log/2018/10/13/flow-based-deep-generative-models.html#nice)\n",
    "[NICE]()\n",
    "[RealNVP]()\n",
    "[MAF]()\n",
    "[Flow Plugin Network]()\n"
   ],
   "metadata": {
    "collapsed": false,
    "pycharm": {
     "name": "#%% md\n"
    }
   }
  }
 ],
 "metadata": {
  "kernelspec": {
   "display_name": "Python 3",
   "language": "python",
   "name": "python3"
  },
  "language_info": {
   "codemirror_mode": {
    "name": "ipython",
    "version": 3
   },
   "file_extension": ".py",
   "mimetype": "text/x-python",
   "name": "python",
   "nbconvert_exporter": "python",
   "pygments_lexer": "ipython3",
   "version": "3.9.2"
  }
 },
 "nbformat": 4,
 "nbformat_minor": 4
}